{
 "cells": [
  {
   "cell_type": "markdown",
   "id": "b148687f",
   "metadata": {},
   "source": [
    "# DS3000 Project: Employee Satisfaction at Tata Motors\n",
    "#### Group 12: Elaine Chua, Yuta Namba, Udita Shah, Abigail Siy"
   ]
  },
  {
   "cell_type": "code",
   "execution_count": 1,
   "id": "e9f94cd4",
   "metadata": {},
   "outputs": [],
   "source": [
    "# import libraries\n",
    "import numpy as np\n",
    "import pandas as pd\n",
    "import matplotlib.pyplot as plt\n",
    "import seaborn as sns\n",
    "import string\n",
    "import re\n",
    "import nltk\n",
    "from nltk.sentiment import SentimentIntensityAnalyzer\n",
    "from sklearn.model_selection import train_test_split, GridSearchCV\n",
    "from sklearn.neighbors import KNeighborsRegressor\n",
    "from sklearn.ensemble import RandomForestRegressor\n",
    "from sklearn.metrics import mean_squared_error\n",
    "from sklearn.preprocessing import StandardScaler\n",
    "from sklearn.svm import SVR"
   ]
  },
  {
   "cell_type": "markdown",
   "id": "3dc51072",
   "metadata": {},
   "source": [
    "### Data Acquisition"
   ]
  },
  {
   "cell_type": "code",
   "execution_count": 2,
   "id": "22b22edb",
   "metadata": {},
   "outputs": [
    {
     "data": {
      "text/html": [
       "<div>\n",
       "<style scoped>\n",
       "    .dataframe tbody tr th:only-of-type {\n",
       "        vertical-align: middle;\n",
       "    }\n",
       "\n",
       "    .dataframe tbody tr th {\n",
       "        vertical-align: top;\n",
       "    }\n",
       "\n",
       "    .dataframe thead th {\n",
       "        text-align: right;\n",
       "    }\n",
       "</style>\n",
       "<table border=\"1\" class=\"dataframe\">\n",
       "  <thead>\n",
       "    <tr style=\"text-align: right;\">\n",
       "      <th></th>\n",
       "      <th>Title</th>\n",
       "      <th>Place</th>\n",
       "      <th>Job_type</th>\n",
       "      <th>Department</th>\n",
       "      <th>Date</th>\n",
       "      <th>Overall_rating</th>\n",
       "      <th>work_life_balance</th>\n",
       "      <th>skill_development</th>\n",
       "      <th>salary_and_benefits</th>\n",
       "      <th>job_security</th>\n",
       "      <th>career_growth</th>\n",
       "      <th>work_satisfaction</th>\n",
       "      <th>Likes</th>\n",
       "      <th>Dislikes</th>\n",
       "    </tr>\n",
       "  </thead>\n",
       "  <tbody>\n",
       "    <tr>\n",
       "      <th>0</th>\n",
       "      <td>Senior Manager</td>\n",
       "      <td>Pune, Maharashtra</td>\n",
       "      <td>Full Time</td>\n",
       "      <td>Engineering Department</td>\n",
       "      <td>4 Sep 2023</td>\n",
       "      <td>5.0</td>\n",
       "      <td>3.0</td>\n",
       "      <td>3.0</td>\n",
       "      <td>4.0</td>\n",
       "      <td>5.0</td>\n",
       "      <td>3.0</td>\n",
       "      <td>3.0</td>\n",
       "      <td>Job security, Food</td>\n",
       "      <td>1. Processes are in place but not getting foll...</td>\n",
       "    </tr>\n",
       "    <tr>\n",
       "      <th>1</th>\n",
       "      <td>Customer Service Executive</td>\n",
       "      <td>Mumbai, Maharashtra</td>\n",
       "      <td>Full Time</td>\n",
       "      <td>Retail Store Operations Department</td>\n",
       "      <td>2 Sep 2023</td>\n",
       "      <td>5.0</td>\n",
       "      <td>5.0</td>\n",
       "      <td>5.0</td>\n",
       "      <td>5.0</td>\n",
       "      <td>5.0</td>\n",
       "      <td>5.0</td>\n",
       "      <td>5.0</td>\n",
       "      <td>We feel very good in this company, if any prob...</td>\n",
       "      <td>There is nothing about this company that we sh...</td>\n",
       "    </tr>\n",
       "    <tr>\n",
       "      <th>2</th>\n",
       "      <td>Senior Manager</td>\n",
       "      <td>Pune</td>\n",
       "      <td>Full Time</td>\n",
       "      <td>Production &amp; Manufacturing Department</td>\n",
       "      <td>2 Sep 2023</td>\n",
       "      <td>4.0</td>\n",
       "      <td>5.0</td>\n",
       "      <td>2.0</td>\n",
       "      <td>2.0</td>\n",
       "      <td>4.0</td>\n",
       "      <td>3.0</td>\n",
       "      <td>1.0</td>\n",
       "      <td>Work life balance</td>\n",
       "      <td>Doesn’t have any proper policy regarding progr...</td>\n",
       "    </tr>\n",
       "    <tr>\n",
       "      <th>3</th>\n",
       "      <td>Data Entry Operator</td>\n",
       "      <td>Jamshedpur, Jharkhand</td>\n",
       "      <td>Full Time</td>\n",
       "      <td>Production Department</td>\n",
       "      <td>2 Sep 2023</td>\n",
       "      <td>5.0</td>\n",
       "      <td>5.0</td>\n",
       "      <td>5.0</td>\n",
       "      <td>5.0</td>\n",
       "      <td>5.0</td>\n",
       "      <td>4.0</td>\n",
       "      <td>5.0</td>\n",
       "      <td>No any Competitor Entire World regarding our E...</td>\n",
       "      <td>No issues</td>\n",
       "    </tr>\n",
       "    <tr>\n",
       "      <th>4</th>\n",
       "      <td>Planning Engineer</td>\n",
       "      <td>Sanand, Gujarat</td>\n",
       "      <td>Intern</td>\n",
       "      <td>Construction / Manufacturing Department</td>\n",
       "      <td>2 Sep 2023</td>\n",
       "      <td>4.0</td>\n",
       "      <td>1.0</td>\n",
       "      <td>1.0</td>\n",
       "      <td>3.0</td>\n",
       "      <td>4.0</td>\n",
       "      <td>1.0</td>\n",
       "      <td>2.0</td>\n",
       "      <td>job security and being a part of organization ...</td>\n",
       "      <td>people just dont work \\nlazy going \\nlower hie...</td>\n",
       "    </tr>\n",
       "  </tbody>\n",
       "</table>\n",
       "</div>"
      ],
      "text/plain": [
       "                        Title                  Place   Job_type  \\\n",
       "0              Senior Manager      Pune, Maharashtra  Full Time   \n",
       "1  Customer Service Executive    Mumbai, Maharashtra  Full Time   \n",
       "2              Senior Manager                   Pune  Full Time   \n",
       "3         Data Entry Operator  Jamshedpur, Jharkhand  Full Time   \n",
       "4           Planning Engineer        Sanand, Gujarat     Intern   \n",
       "\n",
       "                                Department        Date  Overall_rating  \\\n",
       "0                   Engineering Department  4 Sep 2023             5.0   \n",
       "1       Retail Store Operations Department  2 Sep 2023             5.0   \n",
       "2    Production & Manufacturing Department  2 Sep 2023             4.0   \n",
       "3                    Production Department  2 Sep 2023             5.0   \n",
       "4  Construction / Manufacturing Department  2 Sep 2023             4.0   \n",
       "\n",
       "   work_life_balance  skill_development  salary_and_benefits  job_security  \\\n",
       "0                3.0                3.0                  4.0           5.0   \n",
       "1                5.0                5.0                  5.0           5.0   \n",
       "2                5.0                2.0                  2.0           4.0   \n",
       "3                5.0                5.0                  5.0           5.0   \n",
       "4                1.0                1.0                  3.0           4.0   \n",
       "\n",
       "   career_growth  work_satisfaction  \\\n",
       "0            3.0                3.0   \n",
       "1            5.0                5.0   \n",
       "2            3.0                1.0   \n",
       "3            4.0                5.0   \n",
       "4            1.0                2.0   \n",
       "\n",
       "                                               Likes  \\\n",
       "0                                 Job security, Food   \n",
       "1  We feel very good in this company, if any prob...   \n",
       "2                                  Work life balance   \n",
       "3  No any Competitor Entire World regarding our E...   \n",
       "4  job security and being a part of organization ...   \n",
       "\n",
       "                                            Dislikes  \n",
       "0  1. Processes are in place but not getting foll...  \n",
       "1  There is nothing about this company that we sh...  \n",
       "2  Doesn’t have any proper policy regarding progr...  \n",
       "3                                          No issues  \n",
       "4  people just dont work \\nlazy going \\nlower hie...  "
      ]
     },
     "execution_count": 2,
     "metadata": {},
     "output_type": "execute_result"
    }
   ],
   "source": [
    "# load the data into a df\n",
    "df_tata = pd.read_csv('Tata_Motors_Employee_Reviews_from_AmbitionBox.csv', delimiter=',')\n",
    "\n",
    "df_tata.head()\n"
   ]
  },
  {
   "cell_type": "markdown",
   "id": "0b0e34b1",
   "metadata": {},
   "source": [
    "### Data Preparation"
   ]
  },
  {
   "cell_type": "code",
   "execution_count": 3,
   "id": "cda9f051",
   "metadata": {},
   "outputs": [
    {
     "data": {
      "text/plain": [
       "Title                   694\n",
       "Place                  1572\n",
       "Job_type               7516\n",
       "Department             3060\n",
       "Date                    688\n",
       "Overall_rating          754\n",
       "work_life_balance        57\n",
       "skill_development        68\n",
       "salary_and_benefits     104\n",
       "job_security            114\n",
       "career_growth           135\n",
       "work_satisfaction       155\n",
       "Likes                  1780\n",
       "Dislikes               2150\n",
       "dtype: int64"
      ]
     },
     "execution_count": 3,
     "metadata": {},
     "output_type": "execute_result"
    }
   ],
   "source": [
    "# check for missing values, and their frequency, in the entire df\n",
    "df_tata.isna().sum()"
   ]
  },
  {
   "cell_type": "code",
   "execution_count": 4,
   "id": "3f502813",
   "metadata": {},
   "outputs": [
    {
     "data": {
      "text/html": [
       "<div>\n",
       "<style scoped>\n",
       "    .dataframe tbody tr th:only-of-type {\n",
       "        vertical-align: middle;\n",
       "    }\n",
       "\n",
       "    .dataframe tbody tr th {\n",
       "        vertical-align: top;\n",
       "    }\n",
       "\n",
       "    .dataframe thead th {\n",
       "        text-align: right;\n",
       "    }\n",
       "</style>\n",
       "<table border=\"1\" class=\"dataframe\">\n",
       "  <thead>\n",
       "    <tr style=\"text-align: right;\">\n",
       "      <th></th>\n",
       "      <th>Overall_rating</th>\n",
       "      <th>work_life_balance</th>\n",
       "      <th>skill_development</th>\n",
       "      <th>salary_and_benefits</th>\n",
       "      <th>job_security</th>\n",
       "      <th>career_growth</th>\n",
       "      <th>work_satisfaction</th>\n",
       "    </tr>\n",
       "  </thead>\n",
       "  <tbody>\n",
       "    <tr>\n",
       "      <th>count</th>\n",
       "      <td>9998.000000</td>\n",
       "      <td>10695.000000</td>\n",
       "      <td>10684.000000</td>\n",
       "      <td>10648.000000</td>\n",
       "      <td>10638.000000</td>\n",
       "      <td>10617.000000</td>\n",
       "      <td>10597.000000</td>\n",
       "    </tr>\n",
       "    <tr>\n",
       "      <th>mean</th>\n",
       "      <td>4.177636</td>\n",
       "      <td>3.952314</td>\n",
       "      <td>4.065987</td>\n",
       "      <td>3.799962</td>\n",
       "      <td>3.919910</td>\n",
       "      <td>4.067533</td>\n",
       "      <td>3.684250</td>\n",
       "    </tr>\n",
       "    <tr>\n",
       "      <th>std</th>\n",
       "      <td>1.137823</td>\n",
       "      <td>1.215959</td>\n",
       "      <td>1.161590</td>\n",
       "      <td>1.245709</td>\n",
       "      <td>1.310775</td>\n",
       "      <td>1.208352</td>\n",
       "      <td>1.345879</td>\n",
       "    </tr>\n",
       "    <tr>\n",
       "      <th>min</th>\n",
       "      <td>1.000000</td>\n",
       "      <td>1.000000</td>\n",
       "      <td>1.000000</td>\n",
       "      <td>1.000000</td>\n",
       "      <td>1.000000</td>\n",
       "      <td>1.000000</td>\n",
       "      <td>1.000000</td>\n",
       "    </tr>\n",
       "    <tr>\n",
       "      <th>25%</th>\n",
       "      <td>4.000000</td>\n",
       "      <td>3.000000</td>\n",
       "      <td>4.000000</td>\n",
       "      <td>3.000000</td>\n",
       "      <td>3.000000</td>\n",
       "      <td>4.000000</td>\n",
       "      <td>3.000000</td>\n",
       "    </tr>\n",
       "    <tr>\n",
       "      <th>50%</th>\n",
       "      <td>5.000000</td>\n",
       "      <td>4.000000</td>\n",
       "      <td>4.000000</td>\n",
       "      <td>4.000000</td>\n",
       "      <td>4.000000</td>\n",
       "      <td>5.000000</td>\n",
       "      <td>4.000000</td>\n",
       "    </tr>\n",
       "    <tr>\n",
       "      <th>75%</th>\n",
       "      <td>5.000000</td>\n",
       "      <td>5.000000</td>\n",
       "      <td>5.000000</td>\n",
       "      <td>5.000000</td>\n",
       "      <td>5.000000</td>\n",
       "      <td>5.000000</td>\n",
       "      <td>5.000000</td>\n",
       "    </tr>\n",
       "    <tr>\n",
       "      <th>max</th>\n",
       "      <td>5.000000</td>\n",
       "      <td>5.000000</td>\n",
       "      <td>5.000000</td>\n",
       "      <td>5.000000</td>\n",
       "      <td>5.000000</td>\n",
       "      <td>5.000000</td>\n",
       "      <td>5.000000</td>\n",
       "    </tr>\n",
       "  </tbody>\n",
       "</table>\n",
       "</div>"
      ],
      "text/plain": [
       "       Overall_rating  work_life_balance  skill_development  \\\n",
       "count     9998.000000       10695.000000       10684.000000   \n",
       "mean         4.177636           3.952314           4.065987   \n",
       "std          1.137823           1.215959           1.161590   \n",
       "min          1.000000           1.000000           1.000000   \n",
       "25%          4.000000           3.000000           4.000000   \n",
       "50%          5.000000           4.000000           4.000000   \n",
       "75%          5.000000           5.000000           5.000000   \n",
       "max          5.000000           5.000000           5.000000   \n",
       "\n",
       "       salary_and_benefits  job_security  career_growth  work_satisfaction  \n",
       "count         10648.000000  10638.000000   10617.000000       10597.000000  \n",
       "mean              3.799962      3.919910       4.067533           3.684250  \n",
       "std               1.245709      1.310775       1.208352           1.345879  \n",
       "min               1.000000      1.000000       1.000000           1.000000  \n",
       "25%               3.000000      3.000000       4.000000           3.000000  \n",
       "50%               4.000000      4.000000       5.000000           4.000000  \n",
       "75%               5.000000      5.000000       5.000000           5.000000  \n",
       "max               5.000000      5.000000       5.000000           5.000000  "
      ]
     },
     "execution_count": 4,
     "metadata": {},
     "output_type": "execute_result"
    }
   ],
   "source": [
    "df_tata.describe()"
   ]
  },
  {
   "cell_type": "code",
   "execution_count": 5,
   "id": "24b1243f",
   "metadata": {},
   "outputs": [],
   "source": [
    "# duplicate the df to keep the original df intact\n",
    "clean_df_tata = df_tata\n",
    "\n",
    "# perform deletion -- drop rows where over half of the columns are missing\n",
    "clean_df_tata = clean_df_tata.drop(clean_df_tata[clean_df_tata.isnull().sum(axis=1) >= 7].index)\n",
    "\n",
    "# perform imputation for missing values, substitute missing values with the mode\n",
    "for column in ['Overall_rating', 'salary_and_benefits', 'job_security', 'career_growth', 'work_satisfaction']:\n",
    "    clean_df_tata[column].fillna(value=clean_df_tata[column].mode()[0], inplace=True)\n",
    "\n",
    "# perform imputation -- replace NaN with 'no comment'\n",
    "for column in ['Likes', 'Dislikes']:\n",
    "    clean_df_tata[column].fillna(value='no comment', inplace=True)\n",
    "\n",
    "# perform imputation -- replace NaN with 'unknown'\n",
    "for column in ['Title', 'Place', 'Job_type', 'Department']:\n",
    "    clean_df_tata[column].fillna(value='unknown', inplace=True)\n",
    "    \n",
    "# split 'Place' column into 'City' and 'State' columns\n",
    "clean_df_tata[['City', 'State']] = clean_df_tata['Place'].str.split(', ', n=1, expand=True)\n",
    "\n",
    "# insert 'City' column at position 1 and drop 'Place' and 'State' columns\n",
    "clean_df_tata.insert(1, 'City', clean_df_tata.pop('City'))\n",
    "clean_df_tata.drop(columns=['Place', 'State'], inplace=True)\n"
   ]
  },
  {
   "cell_type": "code",
   "execution_count": 6,
   "id": "a2c7eb9c",
   "metadata": {},
   "outputs": [],
   "source": [
    "def clean_review(col_name):\n",
    "    \"\"\"\n",
    "    cleans and processes reviews to prepare for sentiment analysis by removing\n",
    "    any whitespace, emojis, punctuation, and converting everything to lowercase\n",
    "\n",
    "    Parameters:\n",
    "    - col_name (str): a column name in a DataFrame that contains reviews that need to be cleaned\n",
    "\n",
    "    Returns:\n",
    "    - None\n",
    "    \n",
    "    \"\"\"\n",
    "\n",
    "    # list of lists; each list is a review for 1 employee\n",
    "    review_list = list()\n",
    "\n",
    "    for review in clean_df_tata[col_name]:\n",
    "\n",
    "        if type(review) == str:\n",
    "            review = review.replace('\\n', ' ')\n",
    "            # cast review str to list\n",
    "            review = review.split()\n",
    "            review_list.append(review)\n",
    "\n",
    "    # list of lists; each list is a review for 1 employee, each list element is a word in the review\n",
    "    clean_review_list = list()\n",
    "\n",
    "    # remove all punctuation from review\n",
    "    for review in review_list:\n",
    "        temp_list = list()\n",
    "        for word in review:\n",
    "            for letter in word:\n",
    "                if letter in string.punctuation:\n",
    "                    word = word.replace(letter, '')\n",
    "\n",
    "            # skip over word (don't append) if blank     \n",
    "            if word != '':\n",
    "                # append lowercase version of word\n",
    "                temp_list.append(word.lower())\n",
    "\n",
    "        clean_review_list.append(temp_list)\n",
    "        \n",
    "    # join all the reviews into one list\n",
    "    for i in range(len(clean_review_list)):\n",
    "        clean_review_list[i] = ' '.join(clean_review_list[i])\n",
    "\n",
    "\n",
    "    # define a regular expression pattern to match emojis\n",
    "    emoji_pattern = re.compile(\"[\"\n",
    "                           u\"\\U0001F600-\\U0001F64F\"  # Emoticons\n",
    "                           u\"\\U0001F300-\\U0001F5FF\"  # Miscellaneous Symbols and Pictographs\n",
    "                           u\"\\U0001F680-\\U0001F6FF\"  # Transport & Map Symbols\n",
    "                           u\"\\U0001F700-\\U0001F77F\"  # Alchemical Symbols\n",
    "                           u\"\\U0001F780-\\U0001F7FF\"  # Geometric Shapes Extended\n",
    "                           u\"\\U0001F800-\\U0001F8FF\"  # Supplemental Arrows-C\n",
    "                           u\"\\U0001F900-\\U0001F9FF\"  # Supplemental Symbols and Pictographs\n",
    "                           u\"\\U0001FA00-\\U0001FA6F\"  # Chess Symbols\n",
    "                           u\"\\U0001FA70-\\U0001FAFF\"  # Symbols and Pictographs Extended-A\n",
    "                           u\"\\U00002702-\\U000027B0\"  # Dingbat Symbols\n",
    "                           u\"\\U000024C2-\\U0001F251\" \n",
    "                           \"]+\", flags=re.UNICODE)\n",
    "\n",
    "    # remove all emojis from review \n",
    "    for i in range(len(clean_review_list)):\n",
    "        clean_review_list[i] = emoji_pattern.sub('', clean_review_list[i])\n",
    "        \n",
    "    # assign the list of cleaned reviews back to the original column\n",
    "    clean_df_tata[col_name] = clean_review_list\n",
    "    \n",
    "    return None\n"
   ]
  },
  {
   "cell_type": "code",
   "execution_count": 7,
   "id": "2def1311",
   "metadata": {},
   "outputs": [],
   "source": [
    "# apply the clean_review func to the Likes and Dislikes columns\n",
    "clean_review('Likes')\n",
    "clean_review('Dislikes')\n"
   ]
  },
  {
   "cell_type": "code",
   "execution_count": 8,
   "id": "0625d070",
   "metadata": {},
   "outputs": [
    {
     "name": "stderr",
     "output_type": "stream",
     "text": [
      "[nltk_data] Downloading package vader_lexicon to\n",
      "[nltk_data]     /Users/elainechua/nltk_data...\n",
      "[nltk_data]   Package vader_lexicon is already up-to-date!\n"
     ]
    }
   ],
   "source": [
    "# download the VADER lexicon\n",
    "nltk.download('vader_lexicon')\n",
    "\n",
    "# initialize the SentimentIntensityAnalyzer\n",
    "sia = SentimentIntensityAnalyzer()\n",
    "\n",
    "# perform sentiment analysis and add polarity scores to new columns\n",
    "clean_df_tata['sentiment_likes'] = clean_df_tata['Likes'].apply(lambda x: sia.polarity_scores(x)['compound'])\n",
    "clean_df_tata['sentiment_dislikes'] = clean_df_tata['Dislikes'].apply(lambda x: sia.polarity_scores(x)['compound'])\n"
   ]
  },
  {
   "cell_type": "code",
   "execution_count": 9,
   "id": "436d9cd7",
   "metadata": {},
   "outputs": [
    {
     "data": {
      "text/html": [
       "<div>\n",
       "<style scoped>\n",
       "    .dataframe tbody tr th:only-of-type {\n",
       "        vertical-align: middle;\n",
       "    }\n",
       "\n",
       "    .dataframe tbody tr th {\n",
       "        vertical-align: top;\n",
       "    }\n",
       "\n",
       "    .dataframe thead th {\n",
       "        text-align: right;\n",
       "    }\n",
       "</style>\n",
       "<table border=\"1\" class=\"dataframe\">\n",
       "  <thead>\n",
       "    <tr style=\"text-align: right;\">\n",
       "      <th></th>\n",
       "      <th>Title</th>\n",
       "      <th>City</th>\n",
       "      <th>Job_type</th>\n",
       "      <th>Department</th>\n",
       "      <th>Date</th>\n",
       "      <th>Overall_rating</th>\n",
       "      <th>work_life_balance</th>\n",
       "      <th>skill_development</th>\n",
       "      <th>salary_and_benefits</th>\n",
       "      <th>job_security</th>\n",
       "      <th>career_growth</th>\n",
       "      <th>work_satisfaction</th>\n",
       "      <th>Likes</th>\n",
       "      <th>Dislikes</th>\n",
       "      <th>sentiment_likes</th>\n",
       "      <th>sentiment_dislikes</th>\n",
       "    </tr>\n",
       "  </thead>\n",
       "  <tbody>\n",
       "    <tr>\n",
       "      <th>0</th>\n",
       "      <td>Senior Manager</td>\n",
       "      <td>Pune</td>\n",
       "      <td>Full Time</td>\n",
       "      <td>Engineering Department</td>\n",
       "      <td>4 Sep 2023</td>\n",
       "      <td>5.0</td>\n",
       "      <td>3.0</td>\n",
       "      <td>3.0</td>\n",
       "      <td>4.0</td>\n",
       "      <td>5.0</td>\n",
       "      <td>3.0</td>\n",
       "      <td>3.0</td>\n",
       "      <td>job security food</td>\n",
       "      <td>1 processes are in place but not getting follo...</td>\n",
       "      <td>0.3400</td>\n",
       "      <td>-0.6808</td>\n",
       "    </tr>\n",
       "    <tr>\n",
       "      <th>1</th>\n",
       "      <td>Customer Service Executive</td>\n",
       "      <td>Mumbai</td>\n",
       "      <td>Full Time</td>\n",
       "      <td>Retail Store Operations Department</td>\n",
       "      <td>2 Sep 2023</td>\n",
       "      <td>5.0</td>\n",
       "      <td>5.0</td>\n",
       "      <td>5.0</td>\n",
       "      <td>5.0</td>\n",
       "      <td>5.0</td>\n",
       "      <td>5.0</td>\n",
       "      <td>5.0</td>\n",
       "      <td>we feel very good in this company if any probl...</td>\n",
       "      <td>there is nothing about this company that we sh...</td>\n",
       "      <td>0.8739</td>\n",
       "      <td>0.4927</td>\n",
       "    </tr>\n",
       "    <tr>\n",
       "      <th>2</th>\n",
       "      <td>Senior Manager</td>\n",
       "      <td>Pune</td>\n",
       "      <td>Full Time</td>\n",
       "      <td>Production &amp; Manufacturing Department</td>\n",
       "      <td>2 Sep 2023</td>\n",
       "      <td>4.0</td>\n",
       "      <td>5.0</td>\n",
       "      <td>2.0</td>\n",
       "      <td>2.0</td>\n",
       "      <td>4.0</td>\n",
       "      <td>3.0</td>\n",
       "      <td>1.0</td>\n",
       "      <td>work life balance</td>\n",
       "      <td>doesn’t have any proper policy regarding progr...</td>\n",
       "      <td>0.0000</td>\n",
       "      <td>0.0000</td>\n",
       "    </tr>\n",
       "    <tr>\n",
       "      <th>3</th>\n",
       "      <td>Data Entry Operator</td>\n",
       "      <td>Jamshedpur</td>\n",
       "      <td>Full Time</td>\n",
       "      <td>Production Department</td>\n",
       "      <td>2 Sep 2023</td>\n",
       "      <td>5.0</td>\n",
       "      <td>5.0</td>\n",
       "      <td>5.0</td>\n",
       "      <td>5.0</td>\n",
       "      <td>5.0</td>\n",
       "      <td>4.0</td>\n",
       "      <td>5.0</td>\n",
       "      <td>no any competitor entire world regarding our e...</td>\n",
       "      <td>no issues</td>\n",
       "      <td>0.3612</td>\n",
       "      <td>-0.2960</td>\n",
       "    </tr>\n",
       "    <tr>\n",
       "      <th>4</th>\n",
       "      <td>Planning Engineer</td>\n",
       "      <td>Sanand</td>\n",
       "      <td>Intern</td>\n",
       "      <td>Construction / Manufacturing Department</td>\n",
       "      <td>2 Sep 2023</td>\n",
       "      <td>4.0</td>\n",
       "      <td>1.0</td>\n",
       "      <td>1.0</td>\n",
       "      <td>3.0</td>\n",
       "      <td>4.0</td>\n",
       "      <td>1.0</td>\n",
       "      <td>2.0</td>\n",
       "      <td>job security and being a part of organization ...</td>\n",
       "      <td>people just dont work lazy going lower hierarc...</td>\n",
       "      <td>0.6486</td>\n",
       "      <td>0.1270</td>\n",
       "    </tr>\n",
       "  </tbody>\n",
       "</table>\n",
       "</div>"
      ],
      "text/plain": [
       "                        Title        City   Job_type  \\\n",
       "0              Senior Manager        Pune  Full Time   \n",
       "1  Customer Service Executive      Mumbai  Full Time   \n",
       "2              Senior Manager        Pune  Full Time   \n",
       "3         Data Entry Operator  Jamshedpur  Full Time   \n",
       "4           Planning Engineer      Sanand     Intern   \n",
       "\n",
       "                                Department        Date  Overall_rating  \\\n",
       "0                   Engineering Department  4 Sep 2023             5.0   \n",
       "1       Retail Store Operations Department  2 Sep 2023             5.0   \n",
       "2    Production & Manufacturing Department  2 Sep 2023             4.0   \n",
       "3                    Production Department  2 Sep 2023             5.0   \n",
       "4  Construction / Manufacturing Department  2 Sep 2023             4.0   \n",
       "\n",
       "   work_life_balance  skill_development  salary_and_benefits  job_security  \\\n",
       "0                3.0                3.0                  4.0           5.0   \n",
       "1                5.0                5.0                  5.0           5.0   \n",
       "2                5.0                2.0                  2.0           4.0   \n",
       "3                5.0                5.0                  5.0           5.0   \n",
       "4                1.0                1.0                  3.0           4.0   \n",
       "\n",
       "   career_growth  work_satisfaction  \\\n",
       "0            3.0                3.0   \n",
       "1            5.0                5.0   \n",
       "2            3.0                1.0   \n",
       "3            4.0                5.0   \n",
       "4            1.0                2.0   \n",
       "\n",
       "                                               Likes  \\\n",
       "0                                  job security food   \n",
       "1  we feel very good in this company if any probl...   \n",
       "2                                  work life balance   \n",
       "3  no any competitor entire world regarding our e...   \n",
       "4  job security and being a part of organization ...   \n",
       "\n",
       "                                            Dislikes  sentiment_likes  \\\n",
       "0  1 processes are in place but not getting follo...           0.3400   \n",
       "1  there is nothing about this company that we sh...           0.8739   \n",
       "2  doesn’t have any proper policy regarding progr...           0.0000   \n",
       "3                                          no issues           0.3612   \n",
       "4  people just dont work lazy going lower hierarc...           0.6486   \n",
       "\n",
       "   sentiment_dislikes  \n",
       "0             -0.6808  \n",
       "1              0.4927  \n",
       "2              0.0000  \n",
       "3             -0.2960  \n",
       "4              0.1270  "
      ]
     },
     "execution_count": 9,
     "metadata": {},
     "output_type": "execute_result"
    }
   ],
   "source": [
    "# display the cleaned df\n",
    "clean_df_tata.head()\n"
   ]
  },
  {
   "cell_type": "markdown",
   "id": "c33fc574",
   "metadata": {},
   "source": [
    "### Exploratory Data Analysis (EDA)"
   ]
  },
  {
   "cell_type": "code",
   "execution_count": 10,
   "id": "0f828767",
   "metadata": {
    "scrolled": true
   },
   "outputs": [
    {
     "data": {
      "text/plain": [
       "Title                  0\n",
       "City                   0\n",
       "Job_type               0\n",
       "Department             0\n",
       "Date                   0\n",
       "Overall_rating         0\n",
       "work_life_balance      0\n",
       "skill_development      0\n",
       "salary_and_benefits    0\n",
       "job_security           0\n",
       "career_growth          0\n",
       "work_satisfaction      0\n",
       "Likes                  0\n",
       "Dislikes               0\n",
       "sentiment_likes        0\n",
       "sentiment_dislikes     0\n",
       "dtype: int64"
      ]
     },
     "execution_count": 10,
     "metadata": {},
     "output_type": "execute_result"
    }
   ],
   "source": [
    "# check for missing values, and their frequency, in the entire df\n",
    "# after data preparation, there should be 0 missing values\n",
    "clean_df_tata.isna().sum()"
   ]
  },
  {
   "cell_type": "code",
   "execution_count": 11,
   "id": "657208bc",
   "metadata": {},
   "outputs": [
    {
     "data": {
      "text/html": [
       "<div>\n",
       "<style scoped>\n",
       "    .dataframe tbody tr th:only-of-type {\n",
       "        vertical-align: middle;\n",
       "    }\n",
       "\n",
       "    .dataframe tbody tr th {\n",
       "        vertical-align: top;\n",
       "    }\n",
       "\n",
       "    .dataframe thead th {\n",
       "        text-align: right;\n",
       "    }\n",
       "</style>\n",
       "<table border=\"1\" class=\"dataframe\">\n",
       "  <thead>\n",
       "    <tr style=\"text-align: right;\">\n",
       "      <th></th>\n",
       "      <th>Overall_rating</th>\n",
       "      <th>work_life_balance</th>\n",
       "      <th>skill_development</th>\n",
       "      <th>salary_and_benefits</th>\n",
       "      <th>job_security</th>\n",
       "      <th>career_growth</th>\n",
       "      <th>work_satisfaction</th>\n",
       "      <th>sentiment_likes</th>\n",
       "      <th>sentiment_dislikes</th>\n",
       "    </tr>\n",
       "  </thead>\n",
       "  <tbody>\n",
       "    <tr>\n",
       "      <th>count</th>\n",
       "      <td>9991.000000</td>\n",
       "      <td>9991.000000</td>\n",
       "      <td>9991.000000</td>\n",
       "      <td>9991.000000</td>\n",
       "      <td>9991.000000</td>\n",
       "      <td>9991.000000</td>\n",
       "      <td>9991.000000</td>\n",
       "      <td>9991.000000</td>\n",
       "      <td>9991.000000</td>\n",
       "    </tr>\n",
       "    <tr>\n",
       "      <th>mean</th>\n",
       "      <td>4.178961</td>\n",
       "      <td>3.952257</td>\n",
       "      <td>4.064858</td>\n",
       "      <td>3.796317</td>\n",
       "      <td>3.923731</td>\n",
       "      <td>4.068462</td>\n",
       "      <td>3.680613</td>\n",
       "      <td>0.245841</td>\n",
       "      <td>0.033795</td>\n",
       "    </tr>\n",
       "    <tr>\n",
       "      <th>std</th>\n",
       "      <td>1.137583</td>\n",
       "      <td>1.216924</td>\n",
       "      <td>1.164626</td>\n",
       "      <td>1.248362</td>\n",
       "      <td>1.312521</td>\n",
       "      <td>1.209785</td>\n",
       "      <td>1.348184</td>\n",
       "      <td>0.391628</td>\n",
       "      <td>0.368156</td>\n",
       "    </tr>\n",
       "    <tr>\n",
       "      <th>min</th>\n",
       "      <td>1.000000</td>\n",
       "      <td>1.000000</td>\n",
       "      <td>1.000000</td>\n",
       "      <td>1.000000</td>\n",
       "      <td>1.000000</td>\n",
       "      <td>1.000000</td>\n",
       "      <td>1.000000</td>\n",
       "      <td>-0.949300</td>\n",
       "      <td>-0.961600</td>\n",
       "    </tr>\n",
       "    <tr>\n",
       "      <th>25%</th>\n",
       "      <td>4.000000</td>\n",
       "      <td>3.000000</td>\n",
       "      <td>4.000000</td>\n",
       "      <td>3.000000</td>\n",
       "      <td>3.000000</td>\n",
       "      <td>4.000000</td>\n",
       "      <td>3.000000</td>\n",
       "      <td>0.000000</td>\n",
       "      <td>-0.296000</td>\n",
       "    </tr>\n",
       "    <tr>\n",
       "      <th>50%</th>\n",
       "      <td>5.000000</td>\n",
       "      <td>4.000000</td>\n",
       "      <td>4.000000</td>\n",
       "      <td>4.000000</td>\n",
       "      <td>4.000000</td>\n",
       "      <td>5.000000</td>\n",
       "      <td>4.000000</td>\n",
       "      <td>0.340000</td>\n",
       "      <td>0.000000</td>\n",
       "    </tr>\n",
       "    <tr>\n",
       "      <th>75%</th>\n",
       "      <td>5.000000</td>\n",
       "      <td>5.000000</td>\n",
       "      <td>5.000000</td>\n",
       "      <td>5.000000</td>\n",
       "      <td>5.000000</td>\n",
       "      <td>5.000000</td>\n",
       "      <td>5.000000</td>\n",
       "      <td>0.557400</td>\n",
       "      <td>0.361200</td>\n",
       "    </tr>\n",
       "    <tr>\n",
       "      <th>max</th>\n",
       "      <td>5.000000</td>\n",
       "      <td>5.000000</td>\n",
       "      <td>5.000000</td>\n",
       "      <td>5.000000</td>\n",
       "      <td>5.000000</td>\n",
       "      <td>5.000000</td>\n",
       "      <td>5.000000</td>\n",
       "      <td>0.988400</td>\n",
       "      <td>0.983700</td>\n",
       "    </tr>\n",
       "  </tbody>\n",
       "</table>\n",
       "</div>"
      ],
      "text/plain": [
       "       Overall_rating  work_life_balance  skill_development  \\\n",
       "count     9991.000000        9991.000000        9991.000000   \n",
       "mean         4.178961           3.952257           4.064858   \n",
       "std          1.137583           1.216924           1.164626   \n",
       "min          1.000000           1.000000           1.000000   \n",
       "25%          4.000000           3.000000           4.000000   \n",
       "50%          5.000000           4.000000           4.000000   \n",
       "75%          5.000000           5.000000           5.000000   \n",
       "max          5.000000           5.000000           5.000000   \n",
       "\n",
       "       salary_and_benefits  job_security  career_growth  work_satisfaction  \\\n",
       "count          9991.000000   9991.000000    9991.000000        9991.000000   \n",
       "mean              3.796317      3.923731       4.068462           3.680613   \n",
       "std               1.248362      1.312521       1.209785           1.348184   \n",
       "min               1.000000      1.000000       1.000000           1.000000   \n",
       "25%               3.000000      3.000000       4.000000           3.000000   \n",
       "50%               4.000000      4.000000       5.000000           4.000000   \n",
       "75%               5.000000      5.000000       5.000000           5.000000   \n",
       "max               5.000000      5.000000       5.000000           5.000000   \n",
       "\n",
       "       sentiment_likes  sentiment_dislikes  \n",
       "count      9991.000000         9991.000000  \n",
       "mean          0.245841            0.033795  \n",
       "std           0.391628            0.368156  \n",
       "min          -0.949300           -0.961600  \n",
       "25%           0.000000           -0.296000  \n",
       "50%           0.340000            0.000000  \n",
       "75%           0.557400            0.361200  \n",
       "max           0.988400            0.983700  "
      ]
     },
     "execution_count": 11,
     "metadata": {},
     "output_type": "execute_result"
    }
   ],
   "source": [
    "clean_df_tata.describe()"
   ]
  },
  {
   "cell_type": "code",
   "execution_count": 12,
   "id": "68e785e0",
   "metadata": {},
   "outputs": [
    {
     "data": {
      "text/plain": [
       "Text(0.5, 1.0, 'Sentiment Likes vs. Overall Rating')"
      ]
     },
     "execution_count": 12,
     "metadata": {},
     "output_type": "execute_result"
    },
    {
     "data": {
      "image/png": "[encoded data removed]",
      "text/plain": [
       "<Figure size 432x288 with 1 Axes>"
      ]
     },
     "metadata": {
      "needs_background": "light"
     },
     "output_type": "display_data"
    }
   ],
   "source": [
    "sns.scatterplot(x='sentiment_likes', y='Overall_rating', data=clean_df_tata, alpha=0.1)\n",
    "plt.title('Sentiment Likes vs. Overall Rating')"
   ]
  },
  {
   "cell_type": "code",
   "execution_count": 13,
   "id": "e89d2dbd",
   "metadata": {},
   "outputs": [
    {
     "data": {
      "text/plain": [
       "Text(0.5, 1.0, 'Sentiment Dislikes vs. Overall Rating')"
      ]
     },
     "execution_count": 13,
     "metadata": {},
     "output_type": "execute_result"
    },
    {
     "data": {
      "image/png": "[encoded data removed]",
      "text/plain": [
       "<Figure size 432x288 with 1 Axes>"
      ]
     },
     "metadata": {
      "needs_background": "light"
     },
     "output_type": "display_data"
    }
   ],
   "source": [
    "sns.scatterplot(x='sentiment_dislikes', y='Overall_rating', data=clean_df_tata, alpha=0.1)\n",
    "plt.title('Sentiment Dislikes vs. Overall Rating')"
   ]
  },
  {
   "cell_type": "code",
   "execution_count": 14,
   "id": "bc3e6766",
   "metadata": {},
   "outputs": [
    {
     "data": {
      "image/png": "[encoded data removed]",
      "text/plain": [
       "<Figure size 720x432 with 1 Axes>"
      ]
     },
     "metadata": {
      "needs_background": "light"
     },
     "output_type": "display_data"
    }
   ],
   "source": [
    "# calculate the average ratings for different aspects\n",
    "rating_columns = ['Overall_rating', 'work_life_balance', 'skill_development', 'salary_and_benefits',\n",
    "                  'job_security', 'career_growth', 'work_satisfaction']\n",
    "\n",
    "average_ratings = clean_df_tata[rating_columns].mean()\n",
    "\n",
    "# plot the bar chart\n",
    "plt.figure(figsize=(10, 6))\n",
    "average_ratings.plot(kind='bar')\n",
    "\n",
    "# titles and labels\n",
    "plt.title('Average Ratings for Different Aspects')\n",
    "plt.xlabel('Aspects')\n",
    "plt.ylabel('Average Rating')\n",
    "plt.xticks(rotation=45)\n",
    "\n",
    "# show bar chart\n",
    "plt.tight_layout()\n",
    "plt.show()"
   ]
  },
  {
   "cell_type": "code",
   "execution_count": 15,
   "id": "8df095f2",
   "metadata": {},
   "outputs": [
    {
     "data": {
      "image/png": "[encoded data removed]",
      "text/plain": [
       "<Figure size 1296x360 with 7 Axes>"
      ]
     },
     "metadata": {
      "needs_background": "light"
     },
     "output_type": "display_data"
    }
   ],
   "source": [
    "# create individual bar plots for each rating column\n",
    "num_columns = len(rating_columns)\n",
    "fig, axes = plt.subplots(nrows=1, ncols=num_columns, figsize=(18, 5))\n",
    "\n",
    "# create a loop to make visualizations\n",
    "for i, col in enumerate(rating_columns):\n",
    "    ax = axes[i]\n",
    "    clean_df_tata[col].value_counts().sort_index().plot(kind='bar', ax=ax)\n",
    "    ax.set_title(f'{col} ratings')\n",
    "    ax.set_xlabel('Rating')\n",
    "    ax.set_ylabel('Frequency')\n",
    "\n",
    "# show the plot\n",
    "plt.tight_layout()\n",
    "plt.show()"
   ]
  },
  {
   "cell_type": "markdown",
   "id": "43a78056",
   "metadata": {},
   "source": [
    "### Model Development, Evaluation, & Tuning/Optimization"
   ]
  },
  {
   "cell_type": "code",
   "execution_count": 16,
   "id": "e3749e6d",
   "metadata": {},
   "outputs": [],
   "source": [
    "# define the input features\n",
    "x_features = ['work_life_balance', 'skill_development', 'salary_and_benefits',      \n",
    "               'job_security', 'career_growth', 'work_satisfaction', 'sentiment_likes', \n",
    "               'sentiment_dislikes']\n",
    "\n",
    "# partition the data\n",
    "X   = clean_df_tata[x_features]              #get the input features \n",
    "y   = clean_df_tata['Overall_rating']        #get the target\n",
    "\n",
    "X_train, X_test, y_train, y_test = train_test_split(X,              #the input features\n",
    "                                                    y,              #the label\n",
    "                                                    test_size=0.2,  #set aside 20% of the data as the test set\n",
    "                                                    random_state=7, #reproduce the results\n",
    "                                                    stratify=y      #preserve the distribution of the labels\n",
    "                                                   )"
   ]
  },
  {
   "cell_type": "markdown",
   "id": "341b20db",
   "metadata": {},
   "source": [
    "#### Model 1: K-NN Regressor"
   ]
  },
  {
   "cell_type": "code",
   "execution_count": 17,
   "id": "d0f4d216",
   "metadata": {},
   "outputs": [
    {
     "name": "stdout",
     "output_type": "stream",
     "text": [
      "Mean Squared Error: 0.92\n"
     ]
    }
   ],
   "source": [
    "# create a K-NN Regressor\n",
    "knn_reg = KNeighborsRegressor()\n",
    "\n",
    "# fit the model to the training data\n",
    "knn_reg.fit(X_train, y_train)\n",
    "\n",
    "# make predictions on the test set\n",
    "y_pred = knn_reg.predict(X_test)\n",
    "\n",
    "# evaluate the model\n",
    "mse = round(mean_squared_error(y_test, y_pred), 2)\n",
    "print(f'Mean Squared Error: {mse}')\n"
   ]
  },
  {
   "cell_type": "code",
   "execution_count": 18,
   "id": "4815df08",
   "metadata": {},
   "outputs": [
    {
     "name": "stdout",
     "output_type": "stream",
     "text": [
      "The best model/parameters are:  {'n_neighbors': 7}\n",
      "The best score that was obtained is:  -0.86\n"
     ]
    }
   ],
   "source": [
    "# setup the parameter grid to try values of n_neighbors = 5 or 7\n",
    "params = {'n_neighbors': [5, 7]}\n",
    "\n",
    "# initialize Grid Search with Cross Validation and return the training score\n",
    "knn_grid = GridSearchCV(estimator = knn_reg, param_grid = params, cv=5, scoring='neg_mean_squared_error', \n",
    "                        return_train_score = True)\n",
    "knn_grid.fit(X_train, y_train)\n",
    "\n",
    "print('The best model/parameters are: ', knn_grid.best_params_)                    #print the best parameters\n",
    "print('The best score that was obtained is: ' , round(knn_grid.best_score_, 2))    #print the best score\n"
   ]
  },
  {
   "cell_type": "markdown",
   "id": "6ccd7003",
   "metadata": {},
   "source": [
    "#### Model 2: Random Forest Regressor"
   ]
  },
  {
   "cell_type": "code",
   "execution_count": 19,
   "id": "40ab2980",
   "metadata": {},
   "outputs": [
    {
     "name": "stdout",
     "output_type": "stream",
     "text": [
      "Mean Squared Error: 0.88\n"
     ]
    }
   ],
   "source": [
    "# create a RandomForestRegressor\n",
    "rf_reg = RandomForestRegressor(random_state=7)\n",
    "\n",
    "# fit the model to the training data\n",
    "rf_reg.fit(X_train, y_train)\n",
    "\n",
    "# make predictions on the test set\n",
    "y_pred = rf_reg.predict(X_test)\n",
    "\n",
    "# evaluate the model\n",
    "mse = round(mean_squared_error(y_test, y_pred), 2)\n",
    "print(f'Mean Squared Error: {mse}')\n"
   ]
  },
  {
   "cell_type": "code",
   "execution_count": 20,
   "id": "2cb414d9",
   "metadata": {},
   "outputs": [
    {
     "data": {
      "image/png": "[encoded data removed]",
      "text/plain": [
       "<Figure size 432x288 with 1 Axes>"
      ]
     },
     "metadata": {
      "needs_background": "light"
     },
     "output_type": "display_data"
    }
   ],
   "source": [
    "# plot feature importances\n",
    "feat_list = clean_df_tata[x_features].columns\n",
    "feat_import = rf_reg.feature_importances_\n",
    "\n",
    "plt.barh(feat_list, sorted(feat_import))\n",
    "plt.title('Feature Importance in Determining Overall Rating')\n",
    "plt.xlabel('Importance')\n",
    "plt.ylabel('Feature')\n",
    "plt.show()\n"
   ]
  },
  {
   "cell_type": "code",
   "execution_count": 21,
   "id": "6912a0cf",
   "metadata": {},
   "outputs": [
    {
     "name": "stdout",
     "output_type": "stream",
     "text": [
      "The best model/parameters are:  {'n_estimators': 200}\n",
      "The best score that was obtained is:  -0.87\n"
     ]
    }
   ],
   "source": [
    "# setup the parameter grid to try values of n_estimators ranging from 50 to 100\n",
    "params = {'n_estimators': [50, 100, 200]}\n",
    "\n",
    "# initialize Grid Search with Cross Validation and return the training score\n",
    "rf_grid = GridSearchCV(estimator = rf_reg, param_grid = params, cv=5, scoring='neg_mean_squared_error', \n",
    "                       return_train_score = True)\n",
    "rf_grid.fit(X_train, y_train)\n",
    "\n",
    "print('The best model/parameters are: ', rf_grid.best_params_)                    #print the best parameters\n",
    "print('The best score that was obtained is: ' , round(rf_grid.best_score_, 2))    #print the best score\n"
   ]
  },
  {
   "cell_type": "markdown",
   "id": "c74a9f23",
   "metadata": {},
   "source": [
    "#### Model 3: Support Vector Regressor"
   ]
  },
  {
   "cell_type": "code",
   "execution_count": 22,
   "id": "33df8b2e",
   "metadata": {},
   "outputs": [],
   "source": [
    "# normalize the numeric features\n",
    "scaler = StandardScaler()\n",
    "scaler.fit(X_train[x_features])\n",
    "\n",
    "# scale the training data\n",
    "X_train[x_features] = scaler.transform(X_train[x_features]) "
   ]
  },
  {
   "cell_type": "code",
   "execution_count": 23,
   "id": "8f4fd38c",
   "metadata": {},
   "outputs": [
    {
     "name": "stdout",
     "output_type": "stream",
     "text": [
      "Mean Squared Error: 0.88\n"
     ]
    }
   ],
   "source": [
    "# initialize the regressor\n",
    "svm = SVR()\n",
    "\n",
    "# fit the model to the training data\n",
    "svm.fit(X_train, y_train) \n",
    "\n",
    "# scale the test data\n",
    "X_test[x_features] = scaler.transform(X_test[x_features])\n",
    "\n",
    "# make predictions on the test set\n",
    "y_pred = svm.predict(X_test)\n",
    "\n",
    "# evaluate the model\n",
    "mse = round(mean_squared_error(y_test, y_pred), 2)\n",
    "print(f'Mean Squared Error: {mse}')\n"
   ]
  },
  {
   "cell_type": "code",
   "execution_count": 24,
   "id": "2ad45e26",
   "metadata": {},
   "outputs": [
    {
     "name": "stdout",
     "output_type": "stream",
     "text": [
      "The best model/parameters are:  {'C': 1, 'gamma': 0}\n",
      "The best score that was obtained is:  -1.81\n"
     ]
    }
   ],
   "source": [
    "# setup the parameter grid to try values of c ranging from 1 to 5, and values for gamma = 1.\n",
    "params = {'C': np.arange(1, 5),\n",
    "          'gamma': np.arange(1)}\n",
    "\n",
    "# initialize Grid Search with Cross Validation and return the training score\n",
    "svm_grid = GridSearchCV(estimator = svm, param_grid = params, cv=5, scoring='neg_mean_squared_error', \n",
    "                        return_train_score = True)\n",
    "svm_grid.fit(X_train, y_train)\n",
    "\n",
    "print('The best model/parameters are: ', svm_grid.best_params_)                    #print the best parameters\n",
    "print('The best score that was obtained is: ' , round(svm_grid.best_score_, 2))    #print the best score\n"
   ]
  }
 ],
 "metadata": {
  "kernelspec": {
   "display_name": "Python 3 (ipykernel)",
   "language": "python",
   "name": "python3"
  },
  "language_info": {
   "codemirror_mode": {
    "name": "ipython",
    "version": 3
   },
   "file_extension": ".py",
   "mimetype": "text/x-python",
   "name": "python",
   "nbconvert_exporter": "python",
   "pygments_lexer": "ipython3",
   "version": "3.9.7"
  }
 },
 "nbformat": 4,
 "nbformat_minor": 5
}
